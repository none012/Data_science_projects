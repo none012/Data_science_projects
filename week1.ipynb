{
  "nbformat": 4,
  "nbformat_minor": 0,
  "metadata": {
    "colab": {
      "provenance": []
    },
    "kernelspec": {
      "name": "python3",
      "display_name": "Python 3"
    },
    "language_info": {
      "name": "python"
    }
  },
  "cells": [
    {
      "cell_type": "code",
      "execution_count": null,
      "metadata": {
        "id": "gAzOhMQ7lUD9"
      },
      "outputs": [],
      "source": [
        "c=12+34j"
      ]
    },
    {
      "cell_type": "code",
      "source": [
        "# week 1"
      ],
      "metadata": {
        "id": "cgawvRYhwx5i"
      },
      "execution_count": null,
      "outputs": []
    },
    {
      "cell_type": "code",
      "source": [
        "c"
      ],
      "metadata": {
        "colab": {
          "base_uri": "https://localhost:8080/"
        },
        "id": "5UK6aIcumRVy",
        "outputId": "e14cad85-a9e6-4057-f7eb-150dbea3ce34"
      },
      "execution_count": null,
      "outputs": [
        {
          "output_type": "execute_result",
          "data": {
            "text/plain": [
              "(12+34j)"
            ]
          },
          "metadata": {},
          "execution_count": 3
        }
      ]
    },
    {
      "cell_type": "markdown",
      "source": [],
      "metadata": {
        "id": "GcoyG0BYxBlf"
      }
    },
    {
      "cell_type": "code",
      "source": [
        "c.real"
      ],
      "metadata": {
        "colab": {
          "base_uri": "https://localhost:8080/"
        },
        "id": "mZU6Uk2wmShR",
        "outputId": "6493ed2e-a903-4b12-80af-39c8df577475"
      },
      "execution_count": null,
      "outputs": [
        {
          "output_type": "execute_result",
          "data": {
            "text/plain": [
              "12.0"
            ]
          },
          "metadata": {},
          "execution_count": 4
        }
      ]
    },
    {
      "cell_type": "code",
      "source": [
        "c.imag"
      ],
      "metadata": {
        "colab": {
          "base_uri": "https://localhost:8080/"
        },
        "id": "2LcoRGjSmV47",
        "outputId": "64772d87-601e-4b1c-ad8d-799fdd09411c"
      },
      "execution_count": null,
      "outputs": [
        {
          "output_type": "execute_result",
          "data": {
            "text/plain": [
              "34.0"
            ]
          },
          "metadata": {},
          "execution_count": 5
        }
      ]
    },
    {
      "cell_type": "code",
      "source": [
        "type(c)"
      ],
      "metadata": {
        "colab": {
          "base_uri": "https://localhost:8080/"
        },
        "id": "822K7wvWmcaL",
        "outputId": "f936ff7e-368e-489b-eab6-470d3ba5d417"
      },
      "execution_count": null,
      "outputs": [
        {
          "output_type": "execute_result",
          "data": {
            "text/plain": [
              "complex"
            ]
          },
          "metadata": {},
          "execution_count": 6
        }
      ]
    },
    {
      "cell_type": "code",
      "source": [
        "s=\"Hello god\"\n",
        "type(s)"
      ],
      "metadata": {
        "colab": {
          "base_uri": "https://localhost:8080/"
        },
        "id": "o5A9GhLemfns",
        "outputId": "381790e0-7263-4d66-ad75-67dcf847e87f"
      },
      "execution_count": null,
      "outputs": [
        {
          "output_type": "execute_result",
          "data": {
            "text/plain": [
              "str"
            ]
          },
          "metadata": {},
          "execution_count": 7
        }
      ]
    },
    {
      "cell_type": "code",
      "source": [
        "print(type(s))"
      ],
      "metadata": {
        "colab": {
          "base_uri": "https://localhost:8080/"
        },
        "id": "_IZTTQjhmmEk",
        "outputId": "f550ce30-dc94-4852-a2ba-6e2bcbe41634"
      },
      "execution_count": null,
      "outputs": [
        {
          "output_type": "stream",
          "name": "stdout",
          "text": [
            "<class 'str'>\n"
          ]
        }
      ]
    },
    {
      "cell_type": "code",
      "source": [
        "q=None\n",
        "type(q)"
      ],
      "metadata": {
        "colab": {
          "base_uri": "https://localhost:8080/"
        },
        "id": "LjBja85TmtXU",
        "outputId": "4085b063-f608-41fd-e024-4dc7b47eb505"
      },
      "execution_count": null,
      "outputs": [
        {
          "output_type": "execute_result",
          "data": {
            "text/plain": [
              "NoneType"
            ]
          },
          "metadata": {},
          "execution_count": 9
        }
      ]
    },
    {
      "cell_type": "code",
      "source": [
        "#ca@h=10000\n",
        "#ca@h"
      ],
      "metadata": {
        "id": "CVVtgdfFm_4S"
      },
      "execution_count": null,
      "outputs": []
    },
    {
      "cell_type": "code",
      "source": [
        "# cas*=9000\n",
        "# cas*"
      ],
      "metadata": {
        "id": "MtSvi0Cnnc8l"
      },
      "execution_count": null,
      "outputs": []
    },
    {
      "cell_type": "code",
      "source": [
        "#k=0x090cr\n",
        "#k"
      ],
      "metadata": {
        "id": "EDx-PZk1njWH"
      },
      "execution_count": null,
      "outputs": []
    },
    {
      "cell_type": "code",
      "source": [
        "k1=0x000999"
      ],
      "metadata": {
        "id": "KAwFNtORon-W"
      },
      "execution_count": null,
      "outputs": []
    },
    {
      "cell_type": "code",
      "source": [
        "k1"
      ],
      "metadata": {
        "id": "fYnSN5umowO0",
        "colab": {
          "base_uri": "https://localhost:8080/"
        },
        "outputId": "dbc7ac49-417e-46ae-b823-f9576eeabfd9"
      },
      "execution_count": null,
      "outputs": [
        {
          "output_type": "execute_result",
          "data": {
            "text/plain": [
              "2457"
            ]
          },
          "metadata": {},
          "execution_count": 14
        }
      ]
    },
    {
      "cell_type": "code",
      "source": [
        "k2=0x999d\n",
        "k2"
      ],
      "metadata": {
        "id": "kheUMKyXoxee",
        "colab": {
          "base_uri": "https://localhost:8080/"
        },
        "outputId": "1f60d3b8-a268-4abc-a264-7af026b6bd6b"
      },
      "execution_count": null,
      "outputs": [
        {
          "output_type": "execute_result",
          "data": {
            "text/plain": [
              "39325"
            ]
          },
          "metadata": {},
          "execution_count": 15
        }
      ]
    },
    {
      "cell_type": "code",
      "source": [
        "int(\"0999\")"
      ],
      "metadata": {
        "id": "y1SMzHHpo2n3",
        "colab": {
          "base_uri": "https://localhost:8080/"
        },
        "outputId": "d8f31fd7-f23c-4164-9358-888c6379c14c"
      },
      "execution_count": null,
      "outputs": [
        {
          "output_type": "execute_result",
          "data": {
            "text/plain": [
              "999"
            ]
          },
          "metadata": {},
          "execution_count": 16
        }
      ]
    },
    {
      "cell_type": "code",
      "source": [
        "k=1e2\n",
        "k"
      ],
      "metadata": {
        "id": "UTJSw31mpdc1",
        "colab": {
          "base_uri": "https://localhost:8080/"
        },
        "outputId": "3eeee685-8b17-411b-f194-06e04bcbd8cc"
      },
      "execution_count": null,
      "outputs": [
        {
          "output_type": "execute_result",
          "data": {
            "text/plain": [
              "100.0"
            ]
          },
          "metadata": {},
          "execution_count": 17
        }
      ]
    },
    {
      "cell_type": "code",
      "source": [
        "-1e2"
      ],
      "metadata": {
        "id": "AotMBDnCp0DK",
        "colab": {
          "base_uri": "https://localhost:8080/"
        },
        "outputId": "f47c1c98-2a8d-4a05-93ed-9319472fd5c6"
      },
      "execution_count": null,
      "outputs": [
        {
          "output_type": "execute_result",
          "data": {
            "text/plain": [
              "-100.0"
            ]
          },
          "metadata": {},
          "execution_count": 18
        }
      ]
    },
    {
      "cell_type": "code",
      "source": [
        "-1e-2"
      ],
      "metadata": {
        "id": "yqElYu8Vp3Ii",
        "colab": {
          "base_uri": "https://localhost:8080/"
        },
        "outputId": "6938973f-3a4c-4620-851b-5683566fc97e"
      },
      "execution_count": null,
      "outputs": [
        {
          "output_type": "execute_result",
          "data": {
            "text/plain": [
              "-0.01"
            ]
          },
          "metadata": {},
          "execution_count": 19
        }
      ]
    },
    {
      "cell_type": "code",
      "source": [
        "-1e0"
      ],
      "metadata": {
        "id": "h3rRoUPep7I_",
        "colab": {
          "base_uri": "https://localhost:8080/"
        },
        "outputId": "01944e51-4899-4523-f457-4cfe5a498db2"
      },
      "execution_count": null,
      "outputs": [
        {
          "output_type": "execute_result",
          "data": {
            "text/plain": [
              "-1.0"
            ]
          },
          "metadata": {},
          "execution_count": 20
        }
      ]
    },
    {
      "cell_type": "code",
      "source": [
        "k=3j\n",
        "k**2\n"
      ],
      "metadata": {
        "id": "ckCw7F61p_u4",
        "colab": {
          "base_uri": "https://localhost:8080/"
        },
        "outputId": "479981fe-cddc-4ac2-a2be-3813a37670fe"
      },
      "execution_count": null,
      "outputs": [
        {
          "output_type": "execute_result",
          "data": {
            "text/plain": [
              "(-9+0j)"
            ]
          },
          "metadata": {},
          "execution_count": 21
        }
      ]
    },
    {
      "cell_type": "code",
      "source": [
        "#True/False"
      ],
      "metadata": {
        "id": "8g4PeXtyqxoW"
      },
      "execution_count": null,
      "outputs": []
    },
    {
      "cell_type": "markdown",
      "source": [
        "# Day2\n"
      ],
      "metadata": {
        "id": "HIBA57bexG7V"
      }
    },
    {
      "cell_type": "code",
      "source": [
        "list=[]\n",
        "# creating a list empty"
      ],
      "metadata": {
        "id": "vvRq-5E2rNrg"
      },
      "execution_count": null,
      "outputs": []
    },
    {
      "cell_type": "code",
      "source": [
        "print(type(list))\n",
        "#checking the type of list\n"
      ],
      "metadata": {
        "id": "MuvUFbY-xe4x",
        "colab": {
          "base_uri": "https://localhost:8080/"
        },
        "outputId": "ad8a1be5-ec99-412c-c646-f32eb9a9c027"
      },
      "execution_count": null,
      "outputs": [
        {
          "output_type": "stream",
          "name": "stdout",
          "text": [
            "<class 'list'>\n"
          ]
        }
      ]
    },
    {
      "cell_type": "code",
      "source": [
        "list2=[10,20,20,300,\"Hari\",\"Sai\"]\n",
        "print(list2)\n",
        "# CHECKING A LIST OF MULTIPLE DATA TYPE\n"
      ],
      "metadata": {
        "id": "FCD17RXyxhUI",
        "colab": {
          "base_uri": "https://localhost:8080/"
        },
        "outputId": "ab7c0f26-921f-4485-f01c-a778699b950a"
      },
      "execution_count": null,
      "outputs": [
        {
          "output_type": "stream",
          "name": "stdout",
          "text": [
            "[10, 20, 20, 300, 'Hari', 'Sai']\n"
          ]
        }
      ]
    },
    {
      "cell_type": "code",
      "source": [
        "list3=[10,9.00999,1+99j,\"Collage\"]\n",
        "print(type(list3))"
      ],
      "metadata": {
        "id": "3XhBSfJCxrvK",
        "colab": {
          "base_uri": "https://localhost:8080/"
        },
        "outputId": "b7416c9e-eb77-4ffe-dc52-e4d3719387b2"
      },
      "execution_count": null,
      "outputs": [
        {
          "output_type": "stream",
          "name": "stdout",
          "text": [
            "<class 'list'>\n"
          ]
        }
      ]
    },
    {
      "cell_type": "code",
      "source": [
        "list4=[10,20,[1,2,4],99] #its a nested list\n",
        "list4"
      ],
      "metadata": {
        "id": "_1dxurgux-QC",
        "colab": {
          "base_uri": "https://localhost:8080/"
        },
        "outputId": "4080d056-0891-4911-d68b-42978a5a25a7"
      },
      "execution_count": null,
      "outputs": [
        {
          "output_type": "execute_result",
          "data": {
            "text/plain": [
              "[10, 20, [1, 2, 4], 99]"
            ]
          },
          "metadata": {},
          "execution_count": 27
        }
      ]
    },
    {
      "cell_type": "code",
      "source": [
        "len(list4)"
      ],
      "metadata": {
        "id": "BjAFi_f2zcOL",
        "colab": {
          "base_uri": "https://localhost:8080/"
        },
        "outputId": "a9ec8e33-016f-412a-b522-6f2fcc271419"
      },
      "execution_count": null,
      "outputs": [
        {
          "output_type": "execute_result",
          "data": {
            "text/plain": [
              "4"
            ]
          },
          "metadata": {},
          "execution_count": 28
        }
      ]
    },
    {
      "cell_type": "code",
      "source": [
        "list2[1]"
      ],
      "metadata": {
        "id": "YG3KjLO-zkrQ",
        "colab": {
          "base_uri": "https://localhost:8080/"
        },
        "outputId": "ddf51cfa-0c4c-4838-d487-fd6c8b82bce5"
      },
      "execution_count": null,
      "outputs": [
        {
          "output_type": "execute_result",
          "data": {
            "text/plain": [
              "20"
            ]
          },
          "metadata": {},
          "execution_count": 29
        }
      ]
    },
    {
      "cell_type": "code",
      "source": [
        "list2"
      ],
      "metadata": {
        "id": "NDuThf5fzuEG",
        "colab": {
          "base_uri": "https://localhost:8080/"
        },
        "outputId": "71e3fac9-ae02-47f3-cc6c-03ce9e09ee9d"
      },
      "execution_count": null,
      "outputs": [
        {
          "output_type": "execute_result",
          "data": {
            "text/plain": [
              "[10, 20, 20, 300, 'Hari', 'Sai']"
            ]
          },
          "metadata": {},
          "execution_count": 30
        }
      ]
    },
    {
      "cell_type": "code",
      "source": [
        "list2"
      ],
      "metadata": {
        "id": "Bs_yp2C2z5tO",
        "colab": {
          "base_uri": "https://localhost:8080/"
        },
        "outputId": "9fa8aff2-199f-463e-e938-6ebd60b7b9a8"
      },
      "execution_count": null,
      "outputs": [
        {
          "output_type": "execute_result",
          "data": {
            "text/plain": [
              "[10, 20, 20, 300, 'Hari', 'Sai']"
            ]
          },
          "metadata": {},
          "execution_count": 31
        }
      ]
    },
    {
      "cell_type": "code",
      "source": [
        "list2[4][1]"
      ],
      "metadata": {
        "id": "lCIwKhDwz8k9",
        "colab": {
          "base_uri": "https://localhost:8080/",
          "height": 36
        },
        "outputId": "2252f638-188a-4c0c-9a3c-03969312d103"
      },
      "execution_count": null,
      "outputs": [
        {
          "output_type": "execute_result",
          "data": {
            "text/plain": [
              "'a'"
            ],
            "application/vnd.google.colaboratory.intrinsic+json": {
              "type": "string"
            }
          },
          "metadata": {},
          "execution_count": 32
        }
      ]
    },
    {
      "cell_type": "code",
      "source": [
        "list2[4][0:]"
      ],
      "metadata": {
        "id": "93QXEGGL0Anp",
        "colab": {
          "base_uri": "https://localhost:8080/",
          "height": 36
        },
        "outputId": "afc3bc32-636a-47a6-bcad-60d945c32c7b"
      },
      "execution_count": null,
      "outputs": [
        {
          "output_type": "execute_result",
          "data": {
            "text/plain": [
              "'Hari'"
            ],
            "application/vnd.google.colaboratory.intrinsic+json": {
              "type": "string"
            }
          },
          "metadata": {},
          "execution_count": 33
        }
      ]
    },
    {
      "cell_type": "code",
      "source": [
        "list3[-1]"
      ],
      "metadata": {
        "id": "FfvaNbO50J1_",
        "colab": {
          "base_uri": "https://localhost:8080/",
          "height": 36
        },
        "outputId": "8f013303-9ae7-4b85-8895-0d90d8c86d36"
      },
      "execution_count": null,
      "outputs": [
        {
          "output_type": "execute_result",
          "data": {
            "text/plain": [
              "'Collage'"
            ],
            "application/vnd.google.colaboratory.intrinsic+json": {
              "type": "string"
            }
          },
          "metadata": {},
          "execution_count": 34
        }
      ]
    },
    {
      "cell_type": "code",
      "source": [
        "list4"
      ],
      "metadata": {
        "id": "Oo0kuAkl0Nvr",
        "colab": {
          "base_uri": "https://localhost:8080/"
        },
        "outputId": "32647257-906e-40df-e247-8a3f9bc55fc2"
      },
      "execution_count": null,
      "outputs": [
        {
          "output_type": "execute_result",
          "data": {
            "text/plain": [
              "[10, 20, [1, 2, 4], 99]"
            ]
          },
          "metadata": {},
          "execution_count": 35
        }
      ]
    },
    {
      "cell_type": "code",
      "source": [
        "list4[2][2]\n",
        "# in this we have done a indexing for nested elements in it\n"
      ],
      "metadata": {
        "id": "Uece2_sO0V-N",
        "colab": {
          "base_uri": "https://localhost:8080/"
        },
        "outputId": "61e7c688-0770-4f0c-c97b-31091d11bb3f"
      },
      "execution_count": null,
      "outputs": [
        {
          "output_type": "execute_result",
          "data": {
            "text/plain": [
              "4"
            ]
          },
          "metadata": {},
          "execution_count": 36
        }
      ]
    },
    {
      "cell_type": "code",
      "source": [
        "list3[-2].real\n",
        "# we will be getting an real part of the index"
      ],
      "metadata": {
        "id": "rQW6ccbv0lWc",
        "colab": {
          "base_uri": "https://localhost:8080/"
        },
        "outputId": "85ebc20a-447d-477f-ccd0-5559c7d0447e"
      },
      "execution_count": null,
      "outputs": [
        {
          "output_type": "execute_result",
          "data": {
            "text/plain": [
              "1.0"
            ]
          },
          "metadata": {},
          "execution_count": 37
        }
      ]
    },
    {
      "cell_type": "code",
      "source": [
        "print(id(list4[2]))\n",
        "print(list4)\n",
        "list4[2]"
      ],
      "metadata": {
        "id": "EVNqQHX71Axc",
        "colab": {
          "base_uri": "https://localhost:8080/"
        },
        "outputId": "e14a323e-f2bc-4166-d98b-49ac1deb749b"
      },
      "execution_count": null,
      "outputs": [
        {
          "output_type": "stream",
          "name": "stdout",
          "text": [
            "140024998656640\n",
            "[10, 20, [1, 2, 4], 99]\n"
          ]
        },
        {
          "output_type": "execute_result",
          "data": {
            "text/plain": [
              "[1, 2, 4]"
            ]
          },
          "metadata": {},
          "execution_count": 38
        }
      ]
    },
    {
      "cell_type": "code",
      "source": [
        "l1=[\"hari\",\"sai\",\"raghu\",\"sita\",\"venni\"]\n",
        "print(l1)"
      ],
      "metadata": {
        "id": "k0pjG2Q-1PHk",
        "colab": {
          "base_uri": "https://localhost:8080/"
        },
        "outputId": "49c4af25-a3ac-411c-e104-af2ef583a495"
      },
      "execution_count": null,
      "outputs": [
        {
          "output_type": "stream",
          "name": "stdout",
          "text": [
            "['hari', 'sai', 'raghu', 'sita', 'venni']\n"
          ]
        }
      ]
    },
    {
      "cell_type": "code",
      "source": [
        "print(l1[2])"
      ],
      "metadata": {
        "id": "uH3l7zuX1vld",
        "colab": {
          "base_uri": "https://localhost:8080/"
        },
        "outputId": "14c99da5-fcde-466e-c51a-1134f0bd76c2"
      },
      "execution_count": null,
      "outputs": [
        {
          "output_type": "stream",
          "name": "stdout",
          "text": [
            "raghu\n"
          ]
        }
      ]
    },
    {
      "cell_type": "code",
      "source": [
        "print(l1[:][1])"
      ],
      "metadata": {
        "id": "Ka0rfVW812AH",
        "colab": {
          "base_uri": "https://localhost:8080/"
        },
        "outputId": "fc175c7d-7bd2-4e06-8e79-d219e8785af7"
      },
      "execution_count": null,
      "outputs": [
        {
          "output_type": "stream",
          "name": "stdout",
          "text": [
            "sai\n"
          ]
        }
      ]
    },
    {
      "cell_type": "markdown",
      "source": [
        "# it is start for methods in list|"
      ],
      "metadata": {
        "id": "ApJZqz_C3XA-"
      }
    },
    {
      "cell_type": "code",
      "source": [
        "l2=[\"mon\",\"thuse\",\"wed\",\"thur\",\"fri\",\"sat\"]"
      ],
      "metadata": {
        "id": "zZS70ypG2iVY"
      },
      "execution_count": null,
      "outputs": []
    },
    {
      "cell_type": "code",
      "source": [
        "l2.append(\"sun\")\n",
        "print(l2)\n",
        "# adding an \"sun\" to the list at the end of the list uisng append"
      ],
      "metadata": {
        "id": "3-O_9zml2_V-",
        "colab": {
          "base_uri": "https://localhost:8080/"
        },
        "outputId": "279c5b26-7c5f-4665-f77e-e3bb4202d667"
      },
      "execution_count": null,
      "outputs": [
        {
          "output_type": "stream",
          "name": "stdout",
          "text": [
            "['mon', 'thuse', 'wed', 'thur', 'fri', 'sat', 'sun']\n"
          ]
        }
      ]
    },
    {
      "cell_type": "code",
      "source": [
        "l2[1]=\"tues\"\n",
        "print(l2)\n",
        "# it is replacing an element in the list by using the indexing concept"
      ],
      "metadata": {
        "id": "NMyDl7rl3CoH",
        "colab": {
          "base_uri": "https://localhost:8080/"
        },
        "outputId": "55706c82-e751-448b-c5f9-3116151509c0"
      },
      "execution_count": null,
      "outputs": [
        {
          "output_type": "stream",
          "name": "stdout",
          "text": [
            "['mon', 'tues', 'wed', 'thur', 'fri', 'sat', 'sun']\n"
          ]
        }
      ]
    },
    {
      "cell_type": "code",
      "source": [
        "l3=[1,2,3,4,5,6,7]\n",
        "print(l3)"
      ],
      "metadata": {
        "id": "E_74Ab7p3Pt7",
        "colab": {
          "base_uri": "https://localhost:8080/"
        },
        "outputId": "8031b36e-bf26-4890-b8c1-ce7c352c6bf7"
      },
      "execution_count": null,
      "outputs": [
        {
          "output_type": "stream",
          "name": "stdout",
          "text": [
            "[1, 2, 3, 4, 5, 6, 7]\n"
          ]
        }
      ]
    },
    {
      "cell_type": "code",
      "source": [
        "l3.append((8,9,10))\n",
        "print(l3)\n",
        "# append cannot be usrd in list with more than one argument"
      ],
      "metadata": {
        "id": "6-nqqmYY4CH0",
        "colab": {
          "base_uri": "https://localhost:8080/"
        },
        "outputId": "b3b88cee-c743-4ed0-dc93-81b73e7f7dbd"
      },
      "execution_count": null,
      "outputs": [
        {
          "output_type": "stream",
          "name": "stdout",
          "text": [
            "[1, 2, 3, 4, 5, 6, 7, (8, 9, 10)]\n"
          ]
        }
      ]
    },
    {
      "cell_type": "code",
      "source": [
        "a=[8,9,10]\n",
        "l3.extend(a)\n",
        "print(l3)\n",
        "#The extend() method adds all the elements of an iterable (list, tuple, string etc.) to the end of the list."
      ],
      "metadata": {
        "id": "yYBbZUiu4Q-I",
        "colab": {
          "base_uri": "https://localhost:8080/"
        },
        "outputId": "182e149c-65c3-4f39-bf96-a493fe1a79b3"
      },
      "execution_count": null,
      "outputs": [
        {
          "output_type": "stream",
          "name": "stdout",
          "text": [
            "[1, 2, 3, 4, 5, 6, 7, (8, 9, 10), 8, 9, 10]\n"
          ]
        }
      ]
    },
    {
      "cell_type": "code",
      "source": [
        "l3.insert(11,11)\n",
        "print(l3)"
      ],
      "metadata": {
        "id": "8WJWOu7w4VaR",
        "colab": {
          "base_uri": "https://localhost:8080/"
        },
        "outputId": "a94f3e91-28e4-4a19-cc65-0b5a4d88f2bf"
      },
      "execution_count": null,
      "outputs": [
        {
          "output_type": "stream",
          "name": "stdout",
          "text": [
            "[1, 2, 3, 4, 5, 6, 7, (8, 9, 10), 8, 9, 10, 11]\n"
          ]
        }
      ]
    },
    {
      "cell_type": "code",
      "source": [
        "l3.pop(11)"
      ],
      "metadata": {
        "id": "apM6yMG95uMD",
        "colab": {
          "base_uri": "https://localhost:8080/"
        },
        "outputId": "87dccc8e-a525-4b94-f48f-46c4dc284bce"
      },
      "execution_count": null,
      "outputs": [
        {
          "output_type": "execute_result",
          "data": {
            "text/plain": [
              "11"
            ]
          },
          "metadata": {},
          "execution_count": 49
        }
      ]
    },
    {
      "cell_type": "code",
      "source": [
        "print(l3)"
      ],
      "metadata": {
        "id": "ds3hlbMm52RZ",
        "colab": {
          "base_uri": "https://localhost:8080/"
        },
        "outputId": "22974d41-6227-4c97-f775-45c813479628"
      },
      "execution_count": null,
      "outputs": [
        {
          "output_type": "stream",
          "name": "stdout",
          "text": [
            "[1, 2, 3, 4, 5, 6, 7, (8, 9, 10), 8, 9, 10]\n"
          ]
        }
      ]
    },
    {
      "cell_type": "code",
      "source": [
        "list.insert(0,1)\n",
        "list.insert(1,2)\n",
        "list.insert(2,3)\n",
        "list.insert(3,4)\n",
        "print(list)"
      ],
      "metadata": {
        "id": "T3iMiNZi55d2",
        "colab": {
          "base_uri": "https://localhost:8080/"
        },
        "outputId": "3f18f01b-7c8f-4f0d-ca0c-f9167ad912c1"
      },
      "execution_count": null,
      "outputs": [
        {
          "output_type": "stream",
          "name": "stdout",
          "text": [
            "[1, 2, 3, 4]\n"
          ]
        }
      ]
    },
    {
      "cell_type": "code",
      "source": [
        "list.remove(2)"
      ],
      "metadata": {
        "id": "Yfi43k2q6OKp"
      },
      "execution_count": null,
      "outputs": []
    },
    {
      "cell_type": "code",
      "source": [
        "list"
      ],
      "metadata": {
        "id": "Dh_tKGPv7JWs",
        "colab": {
          "base_uri": "https://localhost:8080/"
        },
        "outputId": "be391121-6ca6-4581-802c-2480bd90dc9e"
      },
      "execution_count": null,
      "outputs": [
        {
          "output_type": "execute_result",
          "data": {
            "text/plain": [
              "[1, 3, 4]"
            ]
          },
          "metadata": {},
          "execution_count": 53
        }
      ]
    },
    {
      "cell_type": "code",
      "source": [
        "list.clear()"
      ],
      "metadata": {
        "id": "-V1-1REf7KdC"
      },
      "execution_count": null,
      "outputs": []
    },
    {
      "cell_type": "code",
      "source": [
        "l1"
      ],
      "metadata": {
        "id": "mYvkZEFJ7SB-",
        "colab": {
          "base_uri": "https://localhost:8080/"
        },
        "outputId": "c4895b3d-ca26-4f07-8f0a-31feef2ae3fc"
      },
      "execution_count": null,
      "outputs": [
        {
          "output_type": "execute_result",
          "data": {
            "text/plain": [
              "['hari', 'sai', 'raghu', 'sita', 'venni']"
            ]
          },
          "metadata": {},
          "execution_count": 55
        }
      ]
    },
    {
      "cell_type": "code",
      "source": [
        "del l1[0]"
      ],
      "metadata": {
        "id": "zPgLU9sq7UIW"
      },
      "execution_count": null,
      "outputs": []
    },
    {
      "cell_type": "code",
      "source": [
        "l1"
      ],
      "metadata": {
        "id": "M_BRUMRh7atb",
        "colab": {
          "base_uri": "https://localhost:8080/"
        },
        "outputId": "444d1652-90d0-43ab-9193-9d8d7ffefa9b"
      },
      "execution_count": null,
      "outputs": [
        {
          "output_type": "execute_result",
          "data": {
            "text/plain": [
              "['sai', 'raghu', 'sita', 'venni']"
            ]
          },
          "metadata": {},
          "execution_count": 57
        }
      ]
    },
    {
      "cell_type": "code",
      "source": [
        "l1.insert(0,\"Hari\")\n",
        "print(l1)"
      ],
      "metadata": {
        "id": "qipKuXHq7di3",
        "colab": {
          "base_uri": "https://localhost:8080/"
        },
        "outputId": "afd7bf41-ca64-48d2-b268-bed1f7f8e937"
      },
      "execution_count": null,
      "outputs": [
        {
          "output_type": "stream",
          "name": "stdout",
          "text": [
            "['Hari', 'sai', 'raghu', 'sita', 'venni']\n"
          ]
        }
      ]
    },
    {
      "cell_type": "code",
      "source": [
        "list=l1.copy()\n",
        "print(list)"
      ],
      "metadata": {
        "id": "dG3ve1ZG7ls1",
        "colab": {
          "base_uri": "https://localhost:8080/"
        },
        "outputId": "96ff3ae0-6254-4438-d786-93b679f6be0a"
      },
      "execution_count": null,
      "outputs": [
        {
          "output_type": "stream",
          "name": "stdout",
          "text": [
            "['Hari', 'sai', 'raghu', 'sita', 'venni']\n"
          ]
        }
      ]
    },
    {
      "cell_type": "code",
      "source": [
        "print(list==l1)\n",
        "print(id(list))\n",
        "print(id(l1))"
      ],
      "metadata": {
        "id": "-29IhY6j7uvQ",
        "colab": {
          "base_uri": "https://localhost:8080/"
        },
        "outputId": "6978fb4a-55b5-4247-d80d-9ae1a771948b"
      },
      "execution_count": null,
      "outputs": [
        {
          "output_type": "stream",
          "name": "stdout",
          "text": [
            "True\n",
            "140025011225984\n",
            "140025024625856\n"
          ]
        }
      ]
    },
    {
      "cell_type": "code",
      "source": [
        "print(l1)\n",
        "print(l2)\n",
        "l5=l1+l2\n",
        "print(l5)"
      ],
      "metadata": {
        "id": "9Oynut8c8CcU",
        "colab": {
          "base_uri": "https://localhost:8080/"
        },
        "outputId": "ba28f93b-c8d0-47dd-8161-8e427555e86a"
      },
      "execution_count": null,
      "outputs": [
        {
          "output_type": "stream",
          "name": "stdout",
          "text": [
            "['Hari', 'sai', 'raghu', 'sita', 'venni']\n",
            "['mon', 'tues', 'wed', 'thur', 'fri', 'sat', 'sun']\n",
            "['Hari', 'sai', 'raghu', 'sita', 'venni', 'mon', 'tues', 'wed', 'thur', 'fri', 'sat', 'sun']\n"
          ]
        }
      ]
    },
    {
      "cell_type": "code",
      "source": [
        "l1 in l5"
      ],
      "metadata": {
        "id": "bVE-zKcY8Zh6",
        "colab": {
          "base_uri": "https://localhost:8080/"
        },
        "outputId": "876b490b-b40a-40fd-ed2d-9cc3bbe6998e"
      },
      "execution_count": null,
      "outputs": [
        {
          "output_type": "execute_result",
          "data": {
            "text/plain": [
              "False"
            ]
          },
          "metadata": {},
          "execution_count": 62
        }
      ]
    },
    {
      "cell_type": "code",
      "source": [
        "for i in l1:\n",
        "  if i in l5:\n",
        "    print(True,i)"
      ],
      "metadata": {
        "id": "unwwo6bv864A",
        "colab": {
          "base_uri": "https://localhost:8080/"
        },
        "outputId": "d7c973dd-d70e-4e64-8e8e-72a03da529e3"
      },
      "execution_count": null,
      "outputs": [
        {
          "output_type": "stream",
          "name": "stdout",
          "text": [
            "True Hari\n",
            "True sai\n",
            "True raghu\n",
            "True sita\n",
            "True venni\n"
          ]
        }
      ]
    },
    {
      "cell_type": "code",
      "source": [
        "print(l5[::-1])\n",
        "print(l5[::-1])\n",
        "\n"
      ],
      "metadata": {
        "id": "FLIjRcin9HEh",
        "colab": {
          "base_uri": "https://localhost:8080/"
        },
        "outputId": "f81d7504-c60e-4e17-8dd0-35c5f248ab3d"
      },
      "execution_count": null,
      "outputs": [
        {
          "output_type": "stream",
          "name": "stdout",
          "text": [
            "['sun', 'sat', 'fri', 'thur', 'wed', 'tues', 'mon', 'venni', 'sita', 'raghu', 'sai', 'Hari']\n",
            "['sun', 'sat', 'fri', 'thur', 'wed', 'tues', 'mon', 'venni', 'sita', 'raghu', 'sai', 'Hari']\n"
          ]
        }
      ]
    },
    {
      "cell_type": "code",
      "source": [
        "print(l5.reverse())"
      ],
      "metadata": {
        "id": "a4tUl7q99eWD",
        "colab": {
          "base_uri": "https://localhost:8080/"
        },
        "outputId": "29b5e236-6494-4067-d5db-f9c1855566ae"
      },
      "execution_count": null,
      "outputs": [
        {
          "output_type": "stream",
          "name": "stdout",
          "text": [
            "None\n"
          ]
        }
      ]
    },
    {
      "cell_type": "code",
      "source": [
        "print(l5)\n"
      ],
      "metadata": {
        "id": "rmNj5pHA9ilH",
        "colab": {
          "base_uri": "https://localhost:8080/"
        },
        "outputId": "2d4b5e7e-25b5-4695-b9c9-12159e380e8b"
      },
      "execution_count": null,
      "outputs": [
        {
          "output_type": "stream",
          "name": "stdout",
          "text": [
            "['sun', 'sat', 'fri', 'thur', 'wed', 'tues', 'mon', 'venni', 'sita', 'raghu', 'sai', 'Hari']\n"
          ]
        }
      ]
    },
    {
      "cell_type": "code",
      "source": [
        "print(l5.sort())"
      ],
      "metadata": {
        "id": "kUXbb3w8-LEs",
        "colab": {
          "base_uri": "https://localhost:8080/"
        },
        "outputId": "ac74b582-9d69-4903-875d-880203863411"
      },
      "execution_count": null,
      "outputs": [
        {
          "output_type": "stream",
          "name": "stdout",
          "text": [
            "None\n"
          ]
        }
      ]
    },
    {
      "cell_type": "code",
      "source": [
        "print(l1.sort())"
      ],
      "metadata": {
        "id": "PvNK5BPg-aUP",
        "colab": {
          "base_uri": "https://localhost:8080/"
        },
        "outputId": "811b44ac-cdab-4e9b-8a33-3ed53d24734b"
      },
      "execution_count": null,
      "outputs": [
        {
          "output_type": "stream",
          "name": "stdout",
          "text": [
            "None\n"
          ]
        }
      ]
    },
    {
      "cell_type": "code",
      "source": [
        "list4.append([10,20,30])"
      ],
      "metadata": {
        "id": "6tw7YQeI-kKE"
      },
      "execution_count": null,
      "outputs": []
    },
    {
      "cell_type": "code",
      "source": [
        "l3"
      ],
      "metadata": {
        "id": "MmgbXUrj-oqR",
        "colab": {
          "base_uri": "https://localhost:8080/"
        },
        "outputId": "42f00e8e-9314-420b-d38e-903abaa4f7bf"
      },
      "execution_count": null,
      "outputs": [
        {
          "output_type": "execute_result",
          "data": {
            "text/plain": [
              "[1, 2, 3, 4, 5, 6, 7, (8, 9, 10), 8, 9, 10]"
            ]
          },
          "metadata": {},
          "execution_count": 70
        }
      ]
    },
    {
      "cell_type": "code",
      "source": [
        "#l3.sort(reverse=True)"
      ],
      "metadata": {
        "id": "MYc5QBtq-t5x"
      },
      "execution_count": null,
      "outputs": []
    },
    {
      "cell_type": "code",
      "source": [
        "l3"
      ],
      "metadata": {
        "id": "flUsF-gf-8Ki",
        "colab": {
          "base_uri": "https://localhost:8080/"
        },
        "outputId": "60ca4587-aee8-46f1-cc9d-48e7ff05c553"
      },
      "execution_count": null,
      "outputs": [
        {
          "output_type": "execute_result",
          "data": {
            "text/plain": [
              "[1, 2, 3, 4, 5, 6, 7, (8, 9, 10), 8, 9, 10]"
            ]
          },
          "metadata": {},
          "execution_count": 72
        }
      ]
    },
    {
      "cell_type": "code",
      "source": [
        "list4.count(10)"
      ],
      "metadata": {
        "id": "5slGLe0o_F4E",
        "colab": {
          "base_uri": "https://localhost:8080/"
        },
        "outputId": "70a1f2f0-ec0a-442f-f134-6eea3df39b4b"
      },
      "execution_count": null,
      "outputs": [
        {
          "output_type": "execute_result",
          "data": {
            "text/plain": [
              "1"
            ]
          },
          "metadata": {},
          "execution_count": 73
        }
      ]
    },
    {
      "cell_type": "code",
      "source": [
        "list4"
      ],
      "metadata": {
        "id": "zJmPr84d_Zms",
        "colab": {
          "base_uri": "https://localhost:8080/"
        },
        "outputId": "50f7ae58-4bd0-4dd8-d1fb-8f0f024e16f4"
      },
      "execution_count": null,
      "outputs": [
        {
          "output_type": "execute_result",
          "data": {
            "text/plain": [
              "[10, 20, [1, 2, 4], 99, [10, 20, 30]]"
            ]
          },
          "metadata": {},
          "execution_count": 74
        }
      ]
    },
    {
      "cell_type": "code",
      "source": [
        "a=\"Hello World\"\n",
        "b=[i for  i in a]\n",
        "print(b)"
      ],
      "metadata": {
        "id": "h3E_HR5A_bOR",
        "colab": {
          "base_uri": "https://localhost:8080/"
        },
        "outputId": "efc25b89-7dfb-4f80-8163-ea166594ca43"
      },
      "execution_count": null,
      "outputs": [
        {
          "output_type": "stream",
          "name": "stdout",
          "text": [
            "['H', 'e', 'l', 'l', 'o', ' ', 'W', 'o', 'r', 'l', 'd']\n"
          ]
        }
      ]
    },
    {
      "cell_type": "code",
      "source": [
        "l6=[i for i in range(40) if i%2==0]"
      ],
      "metadata": {
        "id": "rvfyR1lg1R3b"
      },
      "execution_count": null,
      "outputs": []
    },
    {
      "cell_type": "code",
      "source": [
        "l6"
      ],
      "metadata": {
        "colab": {
          "base_uri": "https://localhost:8080/"
        },
        "id": "6eTgmN_x2OHA",
        "outputId": "1066a013-8253-4bec-a476-1f493295ed89"
      },
      "execution_count": null,
      "outputs": [
        {
          "output_type": "execute_result",
          "data": {
            "text/plain": [
              "[0, 2, 4, 6, 8, 10, 12, 14, 16, 18, 20, 22, 24, 26, 28, 30, 32, 34, 36, 38]"
            ]
          },
          "metadata": {},
          "execution_count": 77
        }
      ]
    },
    {
      "cell_type": "code",
      "source": [
        "l7=[i if i%3==0  else i%2 if i%2==0  else i**2  for i in range(60) ]"
      ],
      "metadata": {
        "id": "SbqOceOi2RjF"
      },
      "execution_count": null,
      "outputs": []
    },
    {
      "cell_type": "code",
      "source": [
        "l7"
      ],
      "metadata": {
        "colab": {
          "base_uri": "https://localhost:8080/"
        },
        "id": "l_s2U9JO3hN2",
        "outputId": "cad44291-c327-45a1-eef2-a750f1c8a592"
      },
      "execution_count": null,
      "outputs": [
        {
          "output_type": "execute_result",
          "data": {
            "text/plain": [
              "[0,\n",
              " 1,\n",
              " 0,\n",
              " 3,\n",
              " 0,\n",
              " 25,\n",
              " 6,\n",
              " 49,\n",
              " 0,\n",
              " 9,\n",
              " 0,\n",
              " 121,\n",
              " 12,\n",
              " 169,\n",
              " 0,\n",
              " 15,\n",
              " 0,\n",
              " 289,\n",
              " 18,\n",
              " 361,\n",
              " 0,\n",
              " 21,\n",
              " 0,\n",
              " 529,\n",
              " 24,\n",
              " 625,\n",
              " 0,\n",
              " 27,\n",
              " 0,\n",
              " 841,\n",
              " 30,\n",
              " 961,\n",
              " 0,\n",
              " 33,\n",
              " 0,\n",
              " 1225,\n",
              " 36,\n",
              " 1369,\n",
              " 0,\n",
              " 39,\n",
              " 0,\n",
              " 1681,\n",
              " 42,\n",
              " 1849,\n",
              " 0,\n",
              " 45,\n",
              " 0,\n",
              " 2209,\n",
              " 48,\n",
              " 2401,\n",
              " 0,\n",
              " 51,\n",
              " 0,\n",
              " 2809,\n",
              " 54,\n",
              " 3025,\n",
              " 0,\n",
              " 57,\n",
              " 0,\n",
              " 3481]"
            ]
          },
          "metadata": {},
          "execution_count": 79
        }
      ]
    },
    {
      "cell_type": "code",
      "source": [
        "l=[i  for i in range(10) if i%2==0]\n",
        "print(l)"
      ],
      "metadata": {
        "colab": {
          "base_uri": "https://localhost:8080/"
        },
        "id": "THkNQysa4_Fr",
        "outputId": "6085fc41-f080-4f25-c5e8-d37a11271484"
      },
      "execution_count": null,
      "outputs": [
        {
          "output_type": "stream",
          "name": "stdout",
          "text": [
            "[0, 2, 4, 6, 8]\n"
          ]
        }
      ]
    },
    {
      "cell_type": "code",
      "source": [
        "l9=[i for i in range(300) if i%2==0 and i%3==0]\n",
        "print(l9)"
      ],
      "metadata": {
        "colab": {
          "base_uri": "https://localhost:8080/"
        },
        "id": "Vsll5H-Y5ZWp",
        "outputId": "47032657-e9af-4c79-95aa-ff7f91ddc976"
      },
      "execution_count": null,
      "outputs": [
        {
          "output_type": "stream",
          "name": "stdout",
          "text": [
            "[0, 6, 12, 18, 24, 30, 36, 42, 48, 54, 60, 66, 72, 78, 84, 90, 96, 102, 108, 114, 120, 126, 132, 138, 144, 150, 156, 162, 168, 174, 180, 186, 192, 198, 204, 210, 216, 222, 228, 234, 240, 246, 252, 258, 264, 270, 276, 282, 288, 294]\n"
          ]
        }
      ]
    },
    {
      "cell_type": "code",
      "source": [
        "l10=[print(\"{} is a even number\".format(i))  if i%2==0 else print(\"{} is a odd number\".format(i)) for i in range(20) ]"
      ],
      "metadata": {
        "colab": {
          "base_uri": "https://localhost:8080/"
        },
        "id": "gx3ysxQ85_ku",
        "outputId": "da61fe00-792e-4bb4-a18e-a64764a6cc23"
      },
      "execution_count": null,
      "outputs": [
        {
          "output_type": "stream",
          "name": "stdout",
          "text": [
            "0 is a even number\n",
            "1 is a odd number\n",
            "2 is a even number\n",
            "3 is a odd number\n",
            "4 is a even number\n",
            "5 is a odd number\n",
            "6 is a even number\n",
            "7 is a odd number\n",
            "8 is a even number\n",
            "9 is a odd number\n",
            "10 is a even number\n",
            "11 is a odd number\n",
            "12 is a even number\n",
            "13 is a odd number\n",
            "14 is a even number\n",
            "15 is a odd number\n",
            "16 is a even number\n",
            "17 is a odd number\n",
            "18 is a even number\n",
            "19 is a odd number\n"
          ]
        }
      ]
    },
    {
      "cell_type": "code",
      "source": [
        "l11=[print(\"{} is a letter\".format(chr(i))) if chr(i).isalpha() else print(\"{} is a digit\".format(chr(i))) if chr(i).isdigit() else print(\"{} is a special charcter\".format(chr(i))) for i in range(0,127)]"
      ],
      "metadata": {
        "colab": {
          "base_uri": "https://localhost:8080/"
        },
        "id": "d_yw7OYZ81ef",
        "outputId": "c611d7da-ed91-4407-bce3-b41406d4ae8a"
      },
      "execution_count": null,
      "outputs": [
        {
          "output_type": "stream",
          "name": "stdout",
          "text": [
            "\u0000 is a special charcter\n",
            "\u0001 is a special charcter\n",
            "\u0002 is a special charcter\n",
            "\u0003 is a special charcter\n",
            "\u0004 is a special charcter\n",
            "\u0005 is a special charcter\n",
            "\u0006 is a special charcter\n",
            "\u0007 is a special charcter\n",
            "\b is a special charcter\n",
            "\t is a special charcter\n",
            "\n",
            " is a special charcter\n",
            "\u000b is a special charcter\n",
            "\f is a special charcter\n",
            "\r is a special charcter\n",
            "\u000e is a special charcter\n",
            "\u000f is a special charcter\n",
            "\u0010 is a special charcter\n",
            "\u0011 is a special charcter\n",
            "\u0012 is a special charcter\n",
            "\u0013 is a special charcter\n",
            "\u0014 is a special charcter\n",
            "\u0015 is a special charcter\n",
            "\u0016 is a special charcter\n",
            "\u0017 is a special charcter\n",
            "\u0018 is a special charcter\n",
            "\u0019 is a special charcter\n",
            "\u001a is a special charcter\n",
            "\u001b is a special charcter\n",
            "\u001c is a special charcter\n",
            "\u001d is a special charcter\n",
            "\u001e is a special charcter\n",
            "\u001f is a special charcter\n",
            "  is a special charcter\n",
            "! is a special charcter\n",
            "\" is a special charcter\n",
            "# is a special charcter\n",
            "$ is a special charcter\n",
            "% is a special charcter\n",
            "& is a special charcter\n",
            "' is a special charcter\n",
            "( is a special charcter\n",
            ") is a special charcter\n",
            "* is a special charcter\n",
            "+ is a special charcter\n",
            ", is a special charcter\n",
            "- is a special charcter\n",
            ". is a special charcter\n",
            "/ is a special charcter\n",
            "0 is a digit\n",
            "1 is a digit\n",
            "2 is a digit\n",
            "3 is a digit\n",
            "4 is a digit\n",
            "5 is a digit\n",
            "6 is a digit\n",
            "7 is a digit\n",
            "8 is a digit\n",
            "9 is a digit\n",
            ": is a special charcter\n",
            "; is a special charcter\n",
            "< is a special charcter\n",
            "= is a special charcter\n",
            "> is a special charcter\n",
            "? is a special charcter\n",
            "@ is a special charcter\n",
            "A is a letter\n",
            "B is a letter\n",
            "C is a letter\n",
            "D is a letter\n",
            "E is a letter\n",
            "F is a letter\n",
            "G is a letter\n",
            "H is a letter\n",
            "I is a letter\n",
            "J is a letter\n",
            "K is a letter\n",
            "L is a letter\n",
            "M is a letter\n",
            "N is a letter\n",
            "O is a letter\n",
            "P is a letter\n",
            "Q is a letter\n",
            "R is a letter\n",
            "S is a letter\n",
            "T is a letter\n",
            "U is a letter\n",
            "V is a letter\n",
            "W is a letter\n",
            "X is a letter\n",
            "Y is a letter\n",
            "Z is a letter\n",
            "[ is a special charcter\n",
            "\\ is a special charcter\n",
            "] is a special charcter\n",
            "^ is a special charcter\n",
            "_ is a special charcter\n",
            "` is a special charcter\n",
            "a is a letter\n",
            "b is a letter\n",
            "c is a letter\n",
            "d is a letter\n",
            "e is a letter\n",
            "f is a letter\n",
            "g is a letter\n",
            "h is a letter\n",
            "i is a letter\n",
            "j is a letter\n",
            "k is a letter\n",
            "l is a letter\n",
            "m is a letter\n",
            "n is a letter\n",
            "o is a letter\n",
            "p is a letter\n",
            "q is a letter\n",
            "r is a letter\n",
            "s is a letter\n",
            "t is a letter\n",
            "u is a letter\n",
            "v is a letter\n",
            "w is a letter\n",
            "x is a letter\n",
            "y is a letter\n",
            "z is a letter\n",
            "{ is a special charcter\n",
            "| is a special charcter\n",
            "} is a special charcter\n",
            "~ is a special charcter\n"
          ]
        }
      ]
    },
    {
      "cell_type": "markdown",
      "source": [
        "# Tuple"
      ],
      "metadata": {
        "id": "1yvAAbhQ46iM"
      }
    },
    {
      "cell_type": "code",
      "source": [
        "t=(1,2,3,4,5,6)\n",
        "print(t)\n",
        "print(type(t))"
      ],
      "metadata": {
        "colab": {
          "base_uri": "https://localhost:8080/"
        },
        "id": "s7dkmO5z4hMN",
        "outputId": "b824c9b9-ff96-49c5-ec8f-8dba84ad3a2e"
      },
      "execution_count": null,
      "outputs": [
        {
          "output_type": "stream",
          "name": "stdout",
          "text": [
            "(1, 2, 3, 4, 5, 6)\n",
            "<class 'tuple'>\n"
          ]
        }
      ]
    },
    {
      "cell_type": "code",
      "source": [
        "t1=(10.21,12.12,109.009)\n",
        "print(t)\n",
        "print(type(t))"
      ],
      "metadata": {
        "colab": {
          "base_uri": "https://localhost:8080/"
        },
        "id": "MSZ25Z7A_YOp",
        "outputId": "8fe93bc3-3a2c-45f5-a88a-c6f8e725a42d"
      },
      "execution_count": null,
      "outputs": [
        {
          "output_type": "stream",
          "name": "stdout",
          "text": [
            "(1, 2, 3, 4, 5, 6)\n",
            "<class 'tuple'>\n"
          ]
        }
      ]
    },
    {
      "cell_type": "code",
      "source": [
        "t2=(\"AKII\",\"Baby\",\"HEllo\",\"Jetandar\")\n",
        "print(t)\n",
        "print(type(t))"
      ],
      "metadata": {
        "colab": {
          "base_uri": "https://localhost:8080/"
        },
        "id": "wBy5C-Fk_pqo",
        "outputId": "56dc1db9-da12-4831-beed-63778fef9c7b"
      },
      "execution_count": null,
      "outputs": [
        {
          "output_type": "stream",
          "name": "stdout",
          "text": [
            "(1, 2, 3, 4, 5, 6)\n",
            "<class 'tuple'>\n"
          ]
        }
      ]
    },
    {
      "cell_type": "code",
      "source": [
        "t3=(\"ASif\",\"anushka\",10,20,0+9j,True)"
      ],
      "metadata": {
        "id": "nJsWx_Fv_7dv"
      },
      "execution_count": null,
      "outputs": []
    },
    {
      "cell_type": "code",
      "source": [
        "t3=(\"ASif\",\"anushka\",10,20,9j,True)"
      ],
      "metadata": {
        "id": "7hss2aQ7AQ9M"
      },
      "execution_count": null,
      "outputs": []
    },
    {
      "cell_type": "code",
      "source": [
        "t4=(10,20,(10,20))"
      ],
      "metadata": {
        "id": "SaaksG5mAW-3"
      },
      "execution_count": null,
      "outputs": []
    },
    {
      "cell_type": "code",
      "source": [
        "t5=(\"one\",\"two\",\"three\",\"fou\",\"five\",\"six\",\"seven\",\"one\",\"eight\",\"nine\")\n",
        "print(t5[0])"
      ],
      "metadata": {
        "colab": {
          "base_uri": "https://localhost:8080/"
        },
        "id": "Hg4IgfBKApor",
        "outputId": "4f2d5f97-ba1e-4fbf-b6e1-387d2f54520b"
      },
      "execution_count": null,
      "outputs": [
        {
          "output_type": "stream",
          "name": "stdout",
          "text": [
            "one\n"
          ]
        }
      ]
    },
    {
      "cell_type": "code",
      "source": [
        "t5[0][0]"
      ],
      "metadata": {
        "colab": {
          "base_uri": "https://localhost:8080/",
          "height": 36
        },
        "id": "cqLIgNT6A9oa",
        "outputId": "9cb53402-5a0e-41ae-990d-ef40562b78c8"
      },
      "execution_count": null,
      "outputs": [
        {
          "output_type": "execute_result",
          "data": {
            "text/plain": [
              "'o'"
            ],
            "application/vnd.google.colaboratory.intrinsic+json": {
              "type": "string"
            }
          },
          "metadata": {},
          "execution_count": 91
        }
      ]
    },
    {
      "cell_type": "code",
      "source": [
        "t5[0][0:2]"
      ],
      "metadata": {
        "colab": {
          "base_uri": "https://localhost:8080/",
          "height": 36
        },
        "id": "ntue2GAgBArL",
        "outputId": "a95ae72c-9904-4a9e-e194-5603e944b0db"
      },
      "execution_count": null,
      "outputs": [
        {
          "output_type": "execute_result",
          "data": {
            "text/plain": [
              "'on'"
            ],
            "application/vnd.google.colaboratory.intrinsic+json": {
              "type": "string"
            }
          },
          "metadata": {},
          "execution_count": 92
        }
      ]
    },
    {
      "cell_type": "code",
      "source": [
        "t5[-1]"
      ],
      "metadata": {
        "colab": {
          "base_uri": "https://localhost:8080/",
          "height": 36
        },
        "id": "zdAvgW8yBI11",
        "outputId": "0361e843-23cf-42fd-9eeb-86866f9455c5"
      },
      "execution_count": null,
      "outputs": [
        {
          "output_type": "execute_result",
          "data": {
            "text/plain": [
              "'nine'"
            ],
            "application/vnd.google.colaboratory.intrinsic+json": {
              "type": "string"
            }
          },
          "metadata": {},
          "execution_count": 93
        }
      ]
    },
    {
      "cell_type": "code",
      "source": [
        "rev=t5[::-1]\n",
        "rev"
      ],
      "metadata": {
        "colab": {
          "base_uri": "https://localhost:8080/"
        },
        "id": "Rj-PuSq7Bcsh",
        "outputId": "d26c97d3-23f2-4b08-b747-ea014871b60f"
      },
      "execution_count": null,
      "outputs": [
        {
          "output_type": "execute_result",
          "data": {
            "text/plain": [
              "('nine', 'eight', 'one', 'seven', 'six', 'five', 'fou', 'three', 'two', 'one')"
            ]
          },
          "metadata": {},
          "execution_count": 94
        }
      ]
    },
    {
      "cell_type": "code",
      "source": [
        "rev[:-2]"
      ],
      "metadata": {
        "colab": {
          "base_uri": "https://localhost:8080/"
        },
        "id": "o75ZNXPrB3fd",
        "outputId": "b6bfef40-7536-49cc-c28e-6097052a8109"
      },
      "execution_count": null,
      "outputs": [
        {
          "output_type": "execute_result",
          "data": {
            "text/plain": [
              "('nine', 'eight', 'one', 'seven', 'six', 'five', 'fou', 'three')"
            ]
          },
          "metadata": {},
          "execution_count": 95
        }
      ]
    },
    {
      "cell_type": "code",
      "source": [
        "rev[:0]"
      ],
      "metadata": {
        "colab": {
          "base_uri": "https://localhost:8080/"
        },
        "id": "DBwlKWk_B8YV",
        "outputId": "ac48b11a-7ee9-446c-ba5e-9d6eba21b5a1"
      },
      "execution_count": null,
      "outputs": [
        {
          "output_type": "execute_result",
          "data": {
            "text/plain": [
              "()"
            ]
          },
          "metadata": {},
          "execution_count": 96
        }
      ]
    },
    {
      "cell_type": "code",
      "source": [
        "rev[-2:]"
      ],
      "metadata": {
        "colab": {
          "base_uri": "https://localhost:8080/"
        },
        "id": "v44gmLRYCDhU",
        "outputId": "d0de3156-1610-4e9f-deec-a955d2aaccba"
      },
      "execution_count": null,
      "outputs": [
        {
          "output_type": "execute_result",
          "data": {
            "text/plain": [
              "('two', 'one')"
            ]
          },
          "metadata": {},
          "execution_count": 97
        }
      ]
    },
    {
      "cell_type": "code",
      "source": [
        "#t5.remove()"
      ],
      "metadata": {
        "id": "qf5Hq_gRCH-0"
      },
      "execution_count": null,
      "outputs": []
    },
    {
      "cell_type": "code",
      "source": [
        "#rev.append(99)"
      ],
      "metadata": {
        "id": "9ACE-OIJCMpX"
      },
      "execution_count": null,
      "outputs": []
    },
    {
      "cell_type": "code",
      "source": [
        "# t5[7]=\"seven\""
      ],
      "metadata": {
        "id": "t1fA3l_HCSZ7"
      },
      "execution_count": null,
      "outputs": []
    },
    {
      "cell_type": "code",
      "source": [
        "del rev"
      ],
      "metadata": {
        "id": "Dmbg8ZUQDLzK"
      },
      "execution_count": null,
      "outputs": []
    },
    {
      "cell_type": "code",
      "source": [
        "rev=t5[::-1]"
      ],
      "metadata": {
        "id": "9DnYJ5fADP5a"
      },
      "execution_count": null,
      "outputs": []
    },
    {
      "cell_type": "code",
      "source": [
        "# del t5[-1]"
      ],
      "metadata": {
        "id": "5cRlXrgPDUwK"
      },
      "execution_count": null,
      "outputs": []
    },
    {
      "cell_type": "code",
      "source": [
        "for _ in t5:\n",
        "  print(_)"
      ],
      "metadata": {
        "colab": {
          "base_uri": "https://localhost:8080/"
        },
        "id": "ewrQwxClDXtA",
        "outputId": "6124c753-38b6-46d1-fe24-e9195fb671e6"
      },
      "execution_count": null,
      "outputs": [
        {
          "output_type": "stream",
          "name": "stdout",
          "text": [
            "one\n",
            "two\n",
            "three\n",
            "fou\n",
            "five\n",
            "six\n",
            "seven\n",
            "one\n",
            "eight\n",
            "nine\n"
          ]
        }
      ]
    },
    {
      "cell_type": "code",
      "source": [
        "for idx,i in enumerate(t5):\n",
        "  print(idx,\"----\",i)"
      ],
      "metadata": {
        "colab": {
          "base_uri": "https://localhost:8080/"
        },
        "id": "KFvXHwGtDhlj",
        "outputId": "ae159e9d-aa86-4277-afdf-fcd4e69fa2ed"
      },
      "execution_count": null,
      "outputs": [
        {
          "output_type": "stream",
          "name": "stdout",
          "text": [
            "0 ---- one\n",
            "1 ---- two\n",
            "2 ---- three\n",
            "3 ---- fou\n",
            "4 ---- five\n",
            "5 ---- six\n",
            "6 ---- seven\n",
            "7 ---- one\n",
            "8 ---- eight\n",
            "9 ---- nine\n"
          ]
        }
      ]
    },
    {
      "cell_type": "code",
      "source": [
        "t5.count(\"one\")"
      ],
      "metadata": {
        "colab": {
          "base_uri": "https://localhost:8080/"
        },
        "id": "jDeVMZAUDurM",
        "outputId": "952f51c5-3040-4479-9d50-1b622d732ce7"
      },
      "execution_count": null,
      "outputs": [
        {
          "output_type": "execute_result",
          "data": {
            "text/plain": [
              "2"
            ]
          },
          "metadata": {},
          "execution_count": 106
        }
      ]
    },
    {
      "cell_type": "code",
      "source": [
        "t6=(1,2,3,4,5,6,7,1,2)\n",
        "sorted(t6)"
      ],
      "metadata": {
        "id": "AG85lp4kD0gJ",
        "colab": {
          "base_uri": "https://localhost:8080/"
        },
        "outputId": "8198c3da-6087-4092-d263-5705328ede1b"
      },
      "execution_count": null,
      "outputs": [
        {
          "output_type": "execute_result",
          "data": {
            "text/plain": [
              "[1, 1, 2, 2, 3, 4, 5, 6, 7]"
            ]
          },
          "metadata": {},
          "execution_count": 107
        }
      ]
    },
    {
      "cell_type": "code",
      "source": [
        "t6.index(4)"
      ],
      "metadata": {
        "colab": {
          "base_uri": "https://localhost:8080/"
        },
        "id": "zygPsxrDUXZs",
        "outputId": "62d52278-cddc-4cfd-852f-97c0adcc1fff"
      },
      "execution_count": null,
      "outputs": [
        {
          "output_type": "execute_result",
          "data": {
            "text/plain": [
              "3"
            ]
          },
          "metadata": {},
          "execution_count": 108
        }
      ]
    },
    {
      "cell_type": "markdown",
      "source": [
        "# set\n"
      ],
      "metadata": {
        "id": "2wC8-56bqmcY"
      }
    },
    {
      "cell_type": "code",
      "source": [
        "s={10,20,30,40}"
      ],
      "metadata": {
        "id": "CIrEpiHhVJyT"
      },
      "execution_count": null,
      "outputs": []
    },
    {
      "cell_type": "code",
      "source": [
        "print(type(s))\n",
        "print(s)"
      ],
      "metadata": {
        "colab": {
          "base_uri": "https://localhost:8080/"
        },
        "id": "X8xv8jDyramm",
        "outputId": "16916c42-5df4-456b-9260-980781b86f7e"
      },
      "execution_count": null,
      "outputs": [
        {
          "output_type": "stream",
          "name": "stdout",
          "text": [
            "<class 'set'>\n",
            "{40, 10, 20, 30}\n"
          ]
        }
      ]
    },
    {
      "cell_type": "code",
      "source": [
        "s1={10.99,20.12,20.82,44.33}\n",
        "print(type(s1))\n",
        "print(s1)"
      ],
      "metadata": {
        "colab": {
          "base_uri": "https://localhost:8080/"
        },
        "id": "mlYGRHTArgGY",
        "outputId": "d89cb712-5368-4dda-ad61-74aa0d06cc35"
      },
      "execution_count": null,
      "outputs": [
        {
          "output_type": "stream",
          "name": "stdout",
          "text": [
            "<class 'set'>\n",
            "{10.99, 20.12, 20.82, 44.33}\n"
          ]
        }
      ]
    },
    {
      "cell_type": "code",
      "source": [
        "s2={\"Hari\",\"Sai\",\"Chandu\"}\n",
        "print(s2)\n",
        "print(type(s2))"
      ],
      "metadata": {
        "colab": {
          "base_uri": "https://localhost:8080/"
        },
        "id": "N2SzYYIarxWA",
        "outputId": "e6b36ac9-5ada-4594-fb78-7872be9feb12"
      },
      "execution_count": null,
      "outputs": [
        {
          "output_type": "stream",
          "name": "stdout",
          "text": [
            "{'Chandu', 'Hari', 'Sai'}\n",
            "<class 'set'>\n"
          ]
        }
      ]
    },
    {
      "cell_type": "code",
      "source": [
        "s3={10,20.2200001,\"Hari\"}\n",
        "print(type(s3))\n",
        "print(s3)"
      ],
      "metadata": {
        "colab": {
          "base_uri": "https://localhost:8080/"
        },
        "id": "2w880rrBr854",
        "outputId": "bf824c86-8f5f-4c43-d0e0-5665ac0508f7"
      },
      "execution_count": null,
      "outputs": [
        {
          "output_type": "stream",
          "name": "stdout",
          "text": [
            "<class 'set'>\n",
            "{10, 20.2200001, 'Hari'}\n"
          ]
        }
      ]
    },
    {
      "cell_type": "code",
      "source": [
        "# s[:] in the set there is no slicing concept"
      ],
      "metadata": {
        "id": "xkW6Ij_-sHDp"
      },
      "execution_count": null,
      "outputs": []
    },
    {
      "cell_type": "code",
      "source": [
        "# s.append(True) in the set there is no append attribute"
      ],
      "metadata": {
        "id": "vgBM35PesPK3"
      },
      "execution_count": null,
      "outputs": []
    },
    {
      "cell_type": "code",
      "source": [
        "s3.add(True)"
      ],
      "metadata": {
        "id": "PZwsSVjWsYSj"
      },
      "execution_count": null,
      "outputs": []
    },
    {
      "cell_type": "code",
      "source": [
        "s3.add(\"a\")"
      ],
      "metadata": {
        "id": "22SE2_9kslLe"
      },
      "execution_count": null,
      "outputs": []
    },
    {
      "cell_type": "code",
      "source": [
        "s3.remove(\"a\")"
      ],
      "metadata": {
        "id": "Aqd7Yq-1soxe"
      },
      "execution_count": null,
      "outputs": []
    },
    {
      "cell_type": "code",
      "source": [
        "# s4={[\"a\",\"b\",1,2,3],12} in the set we cannot give list because list is mutable"
      ],
      "metadata": {
        "id": "4P7TyvIUstvQ"
      },
      "execution_count": null,
      "outputs": []
    },
    {
      "cell_type": "code",
      "source": [
        "s5={(1,2,3),\"A\",\"B\"} # in this we can use tuple because tuple is immutable"
      ],
      "metadata": {
        "id": "q0RDM2ogs17W"
      },
      "execution_count": null,
      "outputs": []
    },
    {
      "cell_type": "code",
      "source": [
        "s3.update([1,2,4])\n",
        "print(type(s3))\n",
        "print(s3)\n",
        "# in this update we can give group of items means to give them in list"
      ],
      "metadata": {
        "colab": {
          "base_uri": "https://localhost:8080/"
        },
        "id": "HezOwXGVtFYC",
        "outputId": "a643c72f-7d21-4e1b-f93c-3fe4e3c0d5c0"
      },
      "execution_count": null,
      "outputs": [
        {
          "output_type": "stream",
          "name": "stdout",
          "text": [
            "<class 'set'>\n",
            "{True, 2, 4, 10, 20.2200001, 'Hari'}\n"
          ]
        }
      ]
    },
    {
      "cell_type": "code",
      "source": [
        "s3.discard(2)"
      ],
      "metadata": {
        "id": "mVs0dDv0tV_B"
      },
      "execution_count": null,
      "outputs": []
    },
    {
      "cell_type": "code",
      "source": [
        "print(s3)"
      ],
      "metadata": {
        "colab": {
          "base_uri": "https://localhost:8080/"
        },
        "id": "_s9YILiStqhV",
        "outputId": "690eecc1-a64e-4c1b-a28f-6d2b9bb9da6a"
      },
      "execution_count": null,
      "outputs": [
        {
          "output_type": "stream",
          "name": "stdout",
          "text": [
            "{True, 4, 10, 20.2200001, 'Hari'}\n"
          ]
        }
      ]
    },
    {
      "cell_type": "code",
      "source": [],
      "metadata": {
        "id": "EEtqiLPktsfG"
      },
      "execution_count": null,
      "outputs": []
    },
    {
      "cell_type": "markdown",
      "source": [
        "# Operaters on set\n",
        "# union\n",
        "# intersection\n",
        "# difference\n",
        "# symmertic differnce"
      ],
      "metadata": {
        "id": "-nE6eIfxuYKZ"
      }
    },
    {
      "cell_type": "code",
      "source": [
        "s7={1,2,3,5,4}\n",
        "s8={5,6,7}\n",
        "s9={7,8,9}\n"
      ],
      "metadata": {
        "id": "SBMmKFuMuiaR"
      },
      "execution_count": null,
      "outputs": []
    },
    {
      "cell_type": "code",
      "source": [
        "s7 | s8 # Union of s7 and s8\n",
        "print(s7 | s8)"
      ],
      "metadata": {
        "colab": {
          "base_uri": "https://localhost:8080/"
        },
        "id": "bVA9A8SfvNQy",
        "outputId": "c17b3dc0-a2a6-45dd-c6a6-8fbd50fb8e42"
      },
      "execution_count": null,
      "outputs": [
        {
          "output_type": "stream",
          "name": "stdout",
          "text": [
            "{1, 2, 3, 4, 5, 6, 7}\n"
          ]
        }
      ]
    },
    {
      "cell_type": "code",
      "source": [
        "s7 & s8 # Intersection"
      ],
      "metadata": {
        "colab": {
          "base_uri": "https://localhost:8080/"
        },
        "id": "N8skwik3vYxF",
        "outputId": "300aada2-8cee-4eba-b368-3c9c4359c4c9"
      },
      "execution_count": null,
      "outputs": [
        {
          "output_type": "execute_result",
          "data": {
            "text/plain": [
              "{5}"
            ]
          },
          "metadata": {},
          "execution_count": 126
        }
      ]
    },
    {
      "cell_type": "code",
      "source": [
        "s7 -s3 # differnce"
      ],
      "metadata": {
        "colab": {
          "base_uri": "https://localhost:8080/"
        },
        "id": "dFmk6GHZv_AN",
        "outputId": "34d8300f-89be-4211-a660-704389da7e54"
      },
      "execution_count": null,
      "outputs": [
        {
          "output_type": "execute_result",
          "data": {
            "text/plain": [
              "{2, 3, 5}"
            ]
          },
          "metadata": {},
          "execution_count": 127
        }
      ]
    },
    {
      "cell_type": "code",
      "source": [
        "s7 ^s8 # symmertic differnvce"
      ],
      "metadata": {
        "colab": {
          "base_uri": "https://localhost:8080/"
        },
        "id": "oRN_plj3wBk6",
        "outputId": "663bf87f-a799-43be-fb6b-880c52fa5cde"
      },
      "execution_count": null,
      "outputs": [
        {
          "output_type": "execute_result",
          "data": {
            "text/plain": [
              "{1, 2, 3, 4, 6, 7}"
            ]
          },
          "metadata": {},
          "execution_count": 128
        }
      ]
    },
    {
      "cell_type": "code",
      "source": [
        "fs=frozenset(s7)"
      ],
      "metadata": {
        "id": "NFLWG_tpwKNv"
      },
      "execution_count": null,
      "outputs": []
    },
    {
      "cell_type": "code",
      "source": [
        "print(fs)\n",
        "print(type(fs))"
      ],
      "metadata": {
        "colab": {
          "base_uri": "https://localhost:8080/"
        },
        "id": "ST-J6dSqwVj9",
        "outputId": "9a469d87-0023-4fec-aa5d-6a3b5daa93d0"
      },
      "execution_count": null,
      "outputs": [
        {
          "output_type": "stream",
          "name": "stdout",
          "text": [
            "frozenset({1, 2, 3, 4, 5})\n",
            "<class 'frozenset'>\n"
          ]
        }
      ]
    },
    {
      "cell_type": "code",
      "source": [
        "#fs[1]='A' # frozenset cannot be\n",
        "#TypeError: 'frozenset' object does not support item assignment"
      ],
      "metadata": {
        "id": "IGnHG0dZwi8m"
      },
      "execution_count": null,
      "outputs": []
    },
    {
      "cell_type": "markdown",
      "source": [
        "# dictionary intro"
      ],
      "metadata": {
        "id": "wCyRt0PCw_GB"
      }
    },
    {
      "cell_type": "code",
      "source": [
        "d1={1:\"Hari\",2:'Sai',3:'Annu'}\n",
        "print(type(d1))\n",
        "print(d1\n",
        ")"
      ],
      "metadata": {
        "colab": {
          "base_uri": "https://localhost:8080/"
        },
        "id": "tZE5TgopwtVZ",
        "outputId": "630b39c8-faa7-4ad1-83b3-b80461ac5791"
      },
      "execution_count": null,
      "outputs": [
        {
          "output_type": "stream",
          "name": "stdout",
          "text": [
            "<class 'dict'>\n",
            "{1: 'Hari', 2: 'Sai', 3: 'Annu'}\n"
          ]
        }
      ]
    },
    {
      "cell_type": "code",
      "source": [
        "d1['Hi']=1000"
      ],
      "metadata": {
        "id": "FuUeZDEpyElk"
      },
      "execution_count": null,
      "outputs": []
    },
    {
      "cell_type": "code",
      "source": [
        "print(d1\n",
        "      )"
      ],
      "metadata": {
        "colab": {
          "base_uri": "https://localhost:8080/"
        },
        "id": "jO4CBRWjyqmM",
        "outputId": "f4e146ec-ad29-4bff-c819-91dd2c52977c"
      },
      "execution_count": null,
      "outputs": [
        {
          "output_type": "stream",
          "name": "stdout",
          "text": [
            "{1: 'Hari', 2: 'Sai', 3: 'Annu', 'Hi': 1000}\n"
          ]
        }
      ]
    },
    {
      "cell_type": "code",
      "source": [
        "d1.keys()"
      ],
      "metadata": {
        "colab": {
          "base_uri": "https://localhost:8080/"
        },
        "id": "4WYA8dAXyuss",
        "outputId": "69aa1541-ae35-407a-9e65-702e5ea5bcf5"
      },
      "execution_count": null,
      "outputs": [
        {
          "output_type": "execute_result",
          "data": {
            "text/plain": [
              "dict_keys([1, 2, 3, 'Hi'])"
            ]
          },
          "metadata": {},
          "execution_count": 135
        }
      ]
    },
    {
      "cell_type": "code",
      "source": [
        "d1.values(\n",
        "\n",
        ")"
      ],
      "metadata": {
        "colab": {
          "base_uri": "https://localhost:8080/"
        },
        "id": "vt7aFCDKyyB7",
        "outputId": "022a540b-c338-4cc0-a960-49f86d1383e7"
      },
      "execution_count": null,
      "outputs": [
        {
          "output_type": "execute_result",
          "data": {
            "text/plain": [
              "dict_values(['Hari', 'Sai', 'Annu', 1000])"
            ]
          },
          "metadata": {},
          "execution_count": 136
        }
      ]
    },
    {
      "cell_type": "code",
      "source": [
        "d1.items()"
      ],
      "metadata": {
        "colab": {
          "base_uri": "https://localhost:8080/"
        },
        "id": "MhbCsFluy0vQ",
        "outputId": "e4bd0dff-2e6c-43ae-f633-eb69b4e98bdb"
      },
      "execution_count": null,
      "outputs": [
        {
          "output_type": "execute_result",
          "data": {
            "text/plain": [
              "dict_items([(1, 'Hari'), (2, 'Sai'), (3, 'Annu'), ('Hi', 1000)])"
            ]
          },
          "metadata": {},
          "execution_count": 137
        }
      ]
    },
    {
      "cell_type": "code",
      "source": [
        "a=('a','b','c')\n",
        "b=(1,2,3)\n",
        "d2=dict.fromkeys(a,b)"
      ],
      "metadata": {
        "id": "rRo-KZ6Cy2yB"
      },
      "execution_count": null,
      "outputs": []
    },
    {
      "cell_type": "code",
      "source": [
        "print(d2\n",
        "      )"
      ],
      "metadata": {
        "colab": {
          "base_uri": "https://localhost:8080/"
        },
        "id": "6YXY5C6azK0o",
        "outputId": "ad98199f-6f62-429d-aa3d-4572050bddd7"
      },
      "execution_count": null,
      "outputs": [
        {
          "output_type": "stream",
          "name": "stdout",
          "text": [
            "{'a': (1, 2, 3), 'b': (1, 2, 3), 'c': (1, 2, 3)}\n"
          ]
        }
      ]
    },
    {
      "cell_type": "code",
      "source": [
        "d3=dict(zip(a,b))"
      ],
      "metadata": {
        "id": "xiWoGi4CzNCq"
      },
      "execution_count": null,
      "outputs": []
    },
    {
      "cell_type": "code",
      "source": [
        "print(d3)"
      ],
      "metadata": {
        "colab": {
          "base_uri": "https://localhost:8080/"
        },
        "id": "4mhnHZEvzgNZ",
        "outputId": "6f063dd5-ef01-4dd5-9aa9-d0883a4be572"
      },
      "execution_count": null,
      "outputs": [
        {
          "output_type": "stream",
          "name": "stdout",
          "text": [
            "{'a': 1, 'b': 2, 'c': 3}\n"
          ]
        }
      ]
    },
    {
      "cell_type": "code",
      "source": [
        "id(d2)==id(d3)"
      ],
      "metadata": {
        "colab": {
          "base_uri": "https://localhost:8080/"
        },
        "id": "1DvMAnXmziix",
        "outputId": "2ca94b84-b306-422b-9944-410bfcaf75fa"
      },
      "execution_count": null,
      "outputs": [
        {
          "output_type": "execute_result",
          "data": {
            "text/plain": [
              "False"
            ]
          },
          "metadata": {},
          "execution_count": 142
        }
      ]
    },
    {
      "cell_type": "code",
      "source": [],
      "metadata": {
        "id": "ZBq7fB2CzoDJ"
      },
      "execution_count": null,
      "outputs": []
    }
  ]
}